{
 "cells": [
  {
   "cell_type": "code",
   "execution_count": 1,
   "id": "615bc1e1-7d7f-4378-a489-7eb3d4f3dd52",
   "metadata": {},
   "outputs": [],
   "source": [
    "#import libraries\n",
    "import pandas as pd"
   ]
  },
  {
   "cell_type": "code",
   "execution_count": 3,
   "id": "d103941a-a990-4b71-b107-adcfd070eed3",
   "metadata": {},
   "outputs": [],
   "source": [
    "#import the data\n",
    "ufc_data = pd.read_csv('UFC_Fighter_Statistics.csv')"
   ]
  },
  {
   "cell_type": "code",
   "execution_count": 5,
   "id": "c8a96559-0336-43ae-914b-9f649cd978c4",
   "metadata": {},
   "outputs": [
    {
     "name": "stdout",
     "output_type": "stream",
     "text": [
      "name                                               0\n",
      "nickname                                        1854\n",
      "wins                                               0\n",
      "losses                                             0\n",
      "draws                                              0\n",
      "height_cm                                        298\n",
      "weight_in_kg                                      87\n",
      "reach_in_cm                                     1927\n",
      "stance                                           823\n",
      "date_of_birth                                   1135\n",
      "significant_strikes_landed_per_minute              0\n",
      "significant_striking_accuracy                      0\n",
      "significant_strikes_absorbed_per_minute            0\n",
      "significant_strike_defence                         0\n",
      "average_takedowns_landed_per_15_minutes            0\n",
      "takedown_accuracy                                  0\n",
      "takedown_defense                                   0\n",
      "average_submissions_attempted_per_15_minutes       0\n",
      "dtype: int64\n"
     ]
    }
   ],
   "source": [
    "#count null values\n",
    "print(ufc_data.isnull().sum())"
   ]
  },
  {
   "cell_type": "code",
   "execution_count": 7,
   "id": "4b8e4fb5-747a-4fc3-816e-a94aa324bfa2",
   "metadata": {},
   "outputs": [
    {
     "data": {
      "text/plain": [
       "(4111, 18)"
      ]
     },
     "execution_count": 7,
     "metadata": {},
     "output_type": "execute_result"
    }
   ],
   "source": [
    "ufc_data.shape"
   ]
  },
  {
   "cell_type": "code",
   "execution_count": 9,
   "id": "2b46ca71-7414-4586-9131-5c6bff543607",
   "metadata": {},
   "outputs": [],
   "source": [
    "# Fill missing values in reach_in_cm with corresponding height_cm values\n",
    "ufc_data = ufc_data.assign(reach_in_cm=ufc_data['reach_in_cm'].fillna(ufc_data['height_cm']))"
   ]
  },
  {
   "cell_type": "code",
   "execution_count": 11,
   "id": "1db8015f-e07a-43fb-b4f5-8d3e2fb30109",
   "metadata": {},
   "outputs": [
    {
     "name": "stdout",
     "output_type": "stream",
     "text": [
      "name                                               0\n",
      "nickname                                        1854\n",
      "wins                                               0\n",
      "losses                                             0\n",
      "draws                                              0\n",
      "height_cm                                        298\n",
      "weight_in_kg                                      87\n",
      "reach_in_cm                                      297\n",
      "stance                                           823\n",
      "date_of_birth                                   1135\n",
      "significant_strikes_landed_per_minute              0\n",
      "significant_striking_accuracy                      0\n",
      "significant_strikes_absorbed_per_minute            0\n",
      "significant_strike_defence                         0\n",
      "average_takedowns_landed_per_15_minutes            0\n",
      "takedown_accuracy                                  0\n",
      "takedown_defense                                   0\n",
      "average_submissions_attempted_per_15_minutes       0\n",
      "dtype: int64\n"
     ]
    }
   ],
   "source": [
    "print(ufc_data.isnull().sum())"
   ]
  },
  {
   "cell_type": "code",
   "execution_count": 13,
   "id": "983a22a2-57e5-4b59-a9a4-23a9fda2c0ff",
   "metadata": {},
   "outputs": [],
   "source": [
    "# Drop the nickname column\n",
    "ufc_data = ufc_data.drop(columns=['nickname'])"
   ]
  },
  {
   "cell_type": "code",
   "execution_count": 15,
   "id": "d5bb62f6-f3d0-4a8a-afb6-9e8577504db6",
   "metadata": {},
   "outputs": [
    {
     "name": "stdout",
     "output_type": "stream",
     "text": [
      "name                                               0\n",
      "wins                                               0\n",
      "losses                                             0\n",
      "draws                                              0\n",
      "height_cm                                        298\n",
      "weight_in_kg                                      87\n",
      "reach_in_cm                                      297\n",
      "stance                                           823\n",
      "date_of_birth                                   1135\n",
      "significant_strikes_landed_per_minute              0\n",
      "significant_striking_accuracy                      0\n",
      "significant_strikes_absorbed_per_minute            0\n",
      "significant_strike_defence                         0\n",
      "average_takedowns_landed_per_15_minutes            0\n",
      "takedown_accuracy                                  0\n",
      "takedown_defense                                   0\n",
      "average_submissions_attempted_per_15_minutes       0\n",
      "dtype: int64\n"
     ]
    }
   ],
   "source": [
    "print(ufc_data.isnull().sum())"
   ]
  },
  {
   "cell_type": "code",
   "execution_count": 17,
   "id": "f405c371-60d6-48d5-ae24-0d9b5cca2bba",
   "metadata": {},
   "outputs": [],
   "source": [
    "# Convert date_of_birth to datetime format\n",
    "ufc_data['date_of_birth'] = pd.to_datetime(ufc_data['date_of_birth'], errors='coerce')\n",
    "\n",
    "# Calculate age\n",
    "today = pd.to_datetime(\"today\")\n",
    "ufc_data['age'] = (today - ufc_data['date_of_birth']).dt.days // 365\n",
    "\n",
    "# Drop the original date_of_birth column\n",
    "ufc_data = ufc_data.drop(columns=['date_of_birth'])"
   ]
  },
  {
   "cell_type": "code",
   "execution_count": 26,
   "id": "6d6f6df0-fe21-4595-b716-8b153a2251f2",
   "metadata": {},
   "outputs": [],
   "source": [
    "# Fill missing values in age with the average age (rounded to nearest integer)\n",
    "ufc_data['age'] = ufc_data['age'].fillna(ufc_data['age'].mean()).astype(int)"
   ]
  },
  {
   "cell_type": "code",
   "execution_count": 28,
   "id": "7ad57b46-2813-43a0-90e0-48d987dc9bb4",
   "metadata": {},
   "outputs": [
    {
     "data": {
      "text/plain": [
       "<bound method NDFrame.head of                    name  wins  losses  draws  height_cm  weight_in_kg  \\\n",
       "0       Robert Drysdale     7       0      0     190.50         92.99   \n",
       "1     Daniel McWilliams    15      37      0     185.42         83.91   \n",
       "2            Dan Molina    13       9      0     177.80         97.98   \n",
       "3             Paul Ruiz     7       4      0     167.64         61.23   \n",
       "4       Collin Huckbody     8       2      0     190.50         83.91   \n",
       "...                 ...   ...     ...    ...        ...           ...   \n",
       "4106    John Campetella     0       1      0     175.26        106.59   \n",
       "4107  Andre Pederneiras     1       1      2     172.72         70.31   \n",
       "4108      Bryson Kamaka    12      20      1     180.34         77.11   \n",
       "4109        Matej Penaz     6       1      0     190.50         83.91   \n",
       "4110     Pauline Macias     4       1      0     162.56         52.16   \n",
       "\n",
       "      reach_in_cm    stance  significant_strikes_landed_per_minute  \\\n",
       "0          190.50  Orthodox                                   0.00   \n",
       "1          185.42       NaN                                   3.36   \n",
       "2          177.80       NaN                                   0.00   \n",
       "3          167.64       NaN                                   1.40   \n",
       "4          193.04  Orthodox                                   2.05   \n",
       "...           ...       ...                                    ...   \n",
       "4106       175.26  Orthodox                                   0.00   \n",
       "4107       172.72  Orthodox                                   0.00   \n",
       "4108       180.34  Orthodox                                   9.47   \n",
       "4109       210.82  Southpaw                                   1.28   \n",
       "4110       162.56  Southpaw                                   0.80   \n",
       "\n",
       "      significant_striking_accuracy  significant_strikes_absorbed_per_minute  \\\n",
       "0                               0.0                                     0.00   \n",
       "1                              77.0                                     0.00   \n",
       "2                               0.0                                     5.58   \n",
       "3                              33.0                                     1.40   \n",
       "4                              60.0                                     2.73   \n",
       "...                             ...                                      ...   \n",
       "4106                            0.0                                     0.00   \n",
       "4107                            0.0                                     0.00   \n",
       "4108                           60.0                                    12.63   \n",
       "4109                           33.0                                     2.55   \n",
       "4110                           29.0                                     4.60   \n",
       "\n",
       "      significant_strike_defence  average_takedowns_landed_per_15_minutes  \\\n",
       "0                            0.0                                     7.32   \n",
       "1                            0.0                                     0.00   \n",
       "2                           60.0                                     0.00   \n",
       "3                           75.0                                     0.00   \n",
       "4                           42.0                                    10.23   \n",
       "...                          ...                                      ...   \n",
       "4106                         0.0                                     0.00   \n",
       "4107                         0.0                                     0.00   \n",
       "4108                         0.0                                     0.00   \n",
       "4109                        33.0                                     0.00   \n",
       "4110                        42.0                                     2.00   \n",
       "\n",
       "      takedown_accuracy  takedown_defense  \\\n",
       "0                 100.0               0.0   \n",
       "1                   0.0             100.0   \n",
       "2                   0.0               0.0   \n",
       "3                   0.0             100.0   \n",
       "4                 100.0               0.0   \n",
       "...                 ...               ...   \n",
       "4106                0.0               0.0   \n",
       "4107                0.0               0.0   \n",
       "4108                0.0             100.0   \n",
       "4109                0.0               0.0   \n",
       "4110               18.0               0.0   \n",
       "\n",
       "      average_submissions_attempted_per_15_minutes  age  \n",
       "0                                             21.9   43  \n",
       "1                                             21.6   38  \n",
       "2                                             20.9   38  \n",
       "3                                             20.9   38  \n",
       "4                                             20.4   30  \n",
       "...                                            ...  ...  \n",
       "4106                                           0.0   38  \n",
       "4107                                           0.0   58  \n",
       "4108                                           0.0   38  \n",
       "4109                                           0.0   28  \n",
       "4110                                           0.0   36  \n",
       "\n",
       "[4111 rows x 17 columns]>"
      ]
     },
     "execution_count": 28,
     "metadata": {},
     "output_type": "execute_result"
    }
   ],
   "source": [
    "ufc_data.head"
   ]
  },
  {
   "cell_type": "code",
   "execution_count": 30,
   "id": "d7a5bb55-b6d8-4804-a557-3478e0d03034",
   "metadata": {},
   "outputs": [
    {
     "name": "stdout",
     "output_type": "stream",
     "text": [
      "name                                              0\n",
      "wins                                              0\n",
      "losses                                            0\n",
      "draws                                             0\n",
      "height_cm                                       298\n",
      "weight_in_kg                                     87\n",
      "reach_in_cm                                     297\n",
      "stance                                          823\n",
      "significant_strikes_landed_per_minute             0\n",
      "significant_striking_accuracy                     0\n",
      "significant_strikes_absorbed_per_minute           0\n",
      "significant_strike_defence                        0\n",
      "average_takedowns_landed_per_15_minutes           0\n",
      "takedown_accuracy                                 0\n",
      "takedown_defense                                  0\n",
      "average_submissions_attempted_per_15_minutes      0\n",
      "age                                               0\n",
      "dtype: int64\n"
     ]
    }
   ],
   "source": [
    "print(ufc_data.isnull().sum())"
   ]
  },
  {
   "cell_type": "code",
   "execution_count": 34,
   "id": "9ca8162e-6b63-44f6-97b9-5c9f434c8420",
   "metadata": {},
   "outputs": [],
   "source": [
    "# Fill missing values in stance with 'Orthodox' because 80% of all fighters are orthodox\n",
    "ufc_data['stance'] = ufc_data['stance'].fillna('Orthodox')"
   ]
  },
  {
   "cell_type": "code",
   "execution_count": 36,
   "id": "94aec969-dc88-4151-888f-f435ee277631",
   "metadata": {},
   "outputs": [
    {
     "name": "stdout",
     "output_type": "stream",
     "text": [
      "name                                              0\n",
      "wins                                              0\n",
      "losses                                            0\n",
      "draws                                             0\n",
      "height_cm                                       298\n",
      "weight_in_kg                                     87\n",
      "reach_in_cm                                     297\n",
      "stance                                            0\n",
      "significant_strikes_landed_per_minute             0\n",
      "significant_striking_accuracy                     0\n",
      "significant_strikes_absorbed_per_minute           0\n",
      "significant_strike_defence                        0\n",
      "average_takedowns_landed_per_15_minutes           0\n",
      "takedown_accuracy                                 0\n",
      "takedown_defense                                  0\n",
      "average_submissions_attempted_per_15_minutes      0\n",
      "age                                               0\n",
      "dtype: int64\n"
     ]
    }
   ],
   "source": [
    "print(ufc_data.isnull().sum())"
   ]
  },
  {
   "cell_type": "code",
   "execution_count": 40,
   "id": "5336b0e7-c79c-467e-ae8b-7929e967f044",
   "metadata": {},
   "outputs": [],
   "source": [
    "# Fill missing values in numeric columns with their respective column means\n",
    "ufc_data = ufc_data.fillna(ufc_data.mean(numeric_only=True))"
   ]
  },
  {
   "cell_type": "code",
   "execution_count": 42,
   "id": "2aeef4e5-3aab-46da-b291-415231c591ba",
   "metadata": {},
   "outputs": [
    {
     "name": "stdout",
     "output_type": "stream",
     "text": [
      "name                                            0\n",
      "wins                                            0\n",
      "losses                                          0\n",
      "draws                                           0\n",
      "height_cm                                       0\n",
      "weight_in_kg                                    0\n",
      "reach_in_cm                                     0\n",
      "stance                                          0\n",
      "significant_strikes_landed_per_minute           0\n",
      "significant_striking_accuracy                   0\n",
      "significant_strikes_absorbed_per_minute         0\n",
      "significant_strike_defence                      0\n",
      "average_takedowns_landed_per_15_minutes         0\n",
      "takedown_accuracy                               0\n",
      "takedown_defense                                0\n",
      "average_submissions_attempted_per_15_minutes    0\n",
      "age                                             0\n",
      "dtype: int64\n"
     ]
    }
   ],
   "source": [
    "print(ufc_data.isnull().sum())"
   ]
  },
  {
   "cell_type": "code",
   "execution_count": 44,
   "id": "106545a7-f228-4e2d-9112-38df6c76f5f9",
   "metadata": {},
   "outputs": [
    {
     "data": {
      "text/plain": [
       "<bound method NDFrame.head of                    name  wins  losses  draws  height_cm  weight_in_kg  \\\n",
       "0       Robert Drysdale     7       0      0     190.50         92.99   \n",
       "1     Daniel McWilliams    15      37      0     185.42         83.91   \n",
       "2            Dan Molina    13       9      0     177.80         97.98   \n",
       "3             Paul Ruiz     7       4      0     167.64         61.23   \n",
       "4       Collin Huckbody     8       2      0     190.50         83.91   \n",
       "...                 ...   ...     ...    ...        ...           ...   \n",
       "4106    John Campetella     0       1      0     175.26        106.59   \n",
       "4107  Andre Pederneiras     1       1      2     172.72         70.31   \n",
       "4108      Bryson Kamaka    12      20      1     180.34         77.11   \n",
       "4109        Matej Penaz     6       1      0     190.50         83.91   \n",
       "4110     Pauline Macias     4       1      0     162.56         52.16   \n",
       "\n",
       "      reach_in_cm    stance  significant_strikes_landed_per_minute  \\\n",
       "0          190.50  Orthodox                                   0.00   \n",
       "1          185.42  Orthodox                                   3.36   \n",
       "2          177.80  Orthodox                                   0.00   \n",
       "3          167.64  Orthodox                                   1.40   \n",
       "4          193.04  Orthodox                                   2.05   \n",
       "...           ...       ...                                    ...   \n",
       "4106       175.26  Orthodox                                   0.00   \n",
       "4107       172.72  Orthodox                                   0.00   \n",
       "4108       180.34  Orthodox                                   9.47   \n",
       "4109       210.82  Southpaw                                   1.28   \n",
       "4110       162.56  Southpaw                                   0.80   \n",
       "\n",
       "      significant_striking_accuracy  significant_strikes_absorbed_per_minute  \\\n",
       "0                               0.0                                     0.00   \n",
       "1                              77.0                                     0.00   \n",
       "2                               0.0                                     5.58   \n",
       "3                              33.0                                     1.40   \n",
       "4                              60.0                                     2.73   \n",
       "...                             ...                                      ...   \n",
       "4106                            0.0                                     0.00   \n",
       "4107                            0.0                                     0.00   \n",
       "4108                           60.0                                    12.63   \n",
       "4109                           33.0                                     2.55   \n",
       "4110                           29.0                                     4.60   \n",
       "\n",
       "      significant_strike_defence  average_takedowns_landed_per_15_minutes  \\\n",
       "0                            0.0                                     7.32   \n",
       "1                            0.0                                     0.00   \n",
       "2                           60.0                                     0.00   \n",
       "3                           75.0                                     0.00   \n",
       "4                           42.0                                    10.23   \n",
       "...                          ...                                      ...   \n",
       "4106                         0.0                                     0.00   \n",
       "4107                         0.0                                     0.00   \n",
       "4108                         0.0                                     0.00   \n",
       "4109                        33.0                                     0.00   \n",
       "4110                        42.0                                     2.00   \n",
       "\n",
       "      takedown_accuracy  takedown_defense  \\\n",
       "0                 100.0               0.0   \n",
       "1                   0.0             100.0   \n",
       "2                   0.0               0.0   \n",
       "3                   0.0             100.0   \n",
       "4                 100.0               0.0   \n",
       "...                 ...               ...   \n",
       "4106                0.0               0.0   \n",
       "4107                0.0               0.0   \n",
       "4108                0.0             100.0   \n",
       "4109                0.0               0.0   \n",
       "4110               18.0               0.0   \n",
       "\n",
       "      average_submissions_attempted_per_15_minutes  age  \n",
       "0                                             21.9   43  \n",
       "1                                             21.6   38  \n",
       "2                                             20.9   38  \n",
       "3                                             20.9   38  \n",
       "4                                             20.4   30  \n",
       "...                                            ...  ...  \n",
       "4106                                           0.0   38  \n",
       "4107                                           0.0   58  \n",
       "4108                                           0.0   38  \n",
       "4109                                           0.0   28  \n",
       "4110                                           0.0   36  \n",
       "\n",
       "[4111 rows x 17 columns]>"
      ]
     },
     "execution_count": 44,
     "metadata": {},
     "output_type": "execute_result"
    }
   ],
   "source": [
    "ufc_data.head"
   ]
  },
  {
   "cell_type": "code",
   "execution_count": 46,
   "id": "b3d0f262-f18f-4ae0-be68-4c6c7c50ec4b",
   "metadata": {},
   "outputs": [],
   "source": [
    "ufc_data.to_csv('ufc_data_cleaned.csv', index=False)"
   ]
  },
  {
   "cell_type": "code",
   "execution_count": 48,
   "id": "660a9671-4088-4f42-bfc5-806808afcd8a",
   "metadata": {},
   "outputs": [
    {
     "ename": "SyntaxError",
     "evalue": "invalid syntax (3277417328.py, line 1)",
     "output_type": "error",
     "traceback": [
      "\u001b[0;36m  Cell \u001b[0;32mIn[48], line 1\u001b[0;36m\u001b[0m\n\u001b[0;31m    git init\u001b[0m\n\u001b[0m        ^\u001b[0m\n\u001b[0;31mSyntaxError\u001b[0m\u001b[0;31m:\u001b[0m invalid syntax\n"
     ]
    }
   ],
   "source": [
    "git init\n"
   ]
  },
  {
   "cell_type": "code",
   "execution_count": null,
   "id": "1d57f706-17e5-47b2-a40b-293da5c0931d",
   "metadata": {},
   "outputs": [],
   "source": []
  }
 ],
 "metadata": {
  "kernelspec": {
   "display_name": "Python 3 (ipykernel)",
   "language": "python",
   "name": "python3"
  },
  "language_info": {
   "codemirror_mode": {
    "name": "ipython",
    "version": 3
   },
   "file_extension": ".py",
   "mimetype": "text/x-python",
   "name": "python",
   "nbconvert_exporter": "python",
   "pygments_lexer": "ipython3",
   "version": "3.11.4"
  }
 },
 "nbformat": 4,
 "nbformat_minor": 5
}

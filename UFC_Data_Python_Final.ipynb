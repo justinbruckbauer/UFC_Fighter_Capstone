{
 "cells": [
  {
   "cell_type": "code",
   "execution_count": 1,
   "id": "615bc1e1-7d7f-4378-a489-7eb3d4f3dd52",
   "metadata": {},
   "outputs": [],
   "source": [
    "#import libraries\n",
    "import pandas as pd"
   ]
  },
  {
   "cell_type": "code",
   "execution_count": 2,
   "id": "d103941a-a990-4b71-b107-adcfd070eed3",
   "metadata": {},
   "outputs": [],
   "source": [
    "#import the data\n",
    "ufc_data = pd.read_csv('UFC_Fighter_Statistics.csv')"
   ]
  },
  {
   "cell_type": "code",
   "execution_count": 5,
   "id": "c8a96559-0336-43ae-914b-9f649cd978c4",
   "metadata": {},
   "outputs": [
    {
     "name": "stdout",
     "output_type": "stream",
     "text": [
      "name                                               0\n",
      "nickname                                        1854\n",
      "wins                                               0\n",
      "losses                                             0\n",
      "draws                                              0\n",
      "height_cm                                        298\n",
      "weight_in_kg                                      87\n",
      "reach_in_cm                                     1927\n",
      "stance                                           823\n",
      "date_of_birth                                   1135\n",
      "significant_strikes_landed_per_minute              0\n",
      "significant_striking_accuracy                      0\n",
      "significant_strikes_absorbed_per_minute            0\n",
      "significant_strike_defence                         0\n",
      "average_takedowns_landed_per_15_minutes            0\n",
      "takedown_accuracy                                  0\n",
      "takedown_defense                                   0\n",
      "average_submissions_attempted_per_15_minutes       0\n",
      "dtype: int64\n"
     ]
    }
   ],
   "source": [
    "#count null values\n",
    "print(ufc_data.isnull().sum())"
   ]
  },
  {
   "cell_type": "code",
   "execution_count": 7,
   "id": "4b8e4fb5-747a-4fc3-816e-a94aa324bfa2",
   "metadata": {},
   "outputs": [
    {
     "data": {
      "text/plain": [
       "(4111, 18)"
      ]
     },
     "execution_count": 7,
     "metadata": {},
     "output_type": "execute_result"
    }
   ],
   "source": [
    "ufc_data.shape"
   ]
  },
  {
   "cell_type": "code",
   "execution_count": 9,
   "id": "2b46ca71-7414-4586-9131-5c6bff543607",
   "metadata": {},
   "outputs": [],
   "source": [
    "# Fill missing values in reach_in_cm with corresponding height_cm values\n",
    "ufc_data = ufc_data.assign(reach_in_cm=ufc_data['reach_in_cm'].fillna(ufc_data['height_cm']))"
   ]
  },
  {
   "cell_type": "code",
   "execution_count": 11,
   "id": "1db8015f-e07a-43fb-b4f5-8d3e2fb30109",
   "metadata": {},
   "outputs": [
    {
     "name": "stdout",
     "output_type": "stream",
     "text": [
      "name                                               0\n",
      "nickname                                        1854\n",
      "wins                                               0\n",
      "losses                                             0\n",
      "draws                                              0\n",
      "height_cm                                        298\n",
      "weight_in_kg                                      87\n",
      "reach_in_cm                                      297\n",
      "stance                                           823\n",
      "date_of_birth                                   1135\n",
      "significant_strikes_landed_per_minute              0\n",
      "significant_striking_accuracy                      0\n",
      "significant_strikes_absorbed_per_minute            0\n",
      "significant_strike_defence                         0\n",
      "average_takedowns_landed_per_15_minutes            0\n",
      "takedown_accuracy                                  0\n",
      "takedown_defense                                   0\n",
      "average_submissions_attempted_per_15_minutes       0\n",
      "dtype: int64\n"
     ]
    }
   ],
   "source": [
    "print(ufc_data.isnull().sum())"
   ]
  },
  {
   "cell_type": "code",
   "execution_count": 13,
   "id": "983a22a2-57e5-4b59-a9a4-23a9fda2c0ff",
   "metadata": {},
   "outputs": [],
   "source": [
    "# Drop the nickname column\n",
    "ufc_data = ufc_data.drop(columns=['nickname'])"
   ]
  },
  {
   "cell_type": "code",
   "execution_count": 15,
   "id": "d5bb62f6-f3d0-4a8a-afb6-9e8577504db6",
   "metadata": {},
   "outputs": [
    {
     "name": "stdout",
     "output_type": "stream",
     "text": [
      "name                                               0\n",
      "wins                                               0\n",
      "losses                                             0\n",
      "draws                                              0\n",
      "height_cm                                        298\n",
      "weight_in_kg                                      87\n",
      "reach_in_cm                                      297\n",
      "stance                                           823\n",
      "date_of_birth                                   1135\n",
      "significant_strikes_landed_per_minute              0\n",
      "significant_striking_accuracy                      0\n",
      "significant_strikes_absorbed_per_minute            0\n",
      "significant_strike_defence                         0\n",
      "average_takedowns_landed_per_15_minutes            0\n",
      "takedown_accuracy                                  0\n",
      "takedown_defense                                   0\n",
      "average_submissions_attempted_per_15_minutes       0\n",
      "dtype: int64\n"
     ]
    }
   ],
   "source": [
    "print(ufc_data.isnull().sum())"
   ]
  },
  {
   "cell_type": "code",
   "execution_count": 17,
   "id": "f405c371-60d6-48d5-ae24-0d9b5cca2bba",
   "metadata": {},
   "outputs": [],
   "source": [
    "# Convert date_of_birth to datetime format\n",
    "ufc_data['date_of_birth'] = pd.to_datetime(ufc_data['date_of_birth'], errors='coerce')\n",
    "\n",
    "# Calculate age\n",
    "today = pd.to_datetime(\"today\")\n",
    "ufc_data['age'] = (today - ufc_data['date_of_birth']).dt.days // 365\n",
    "\n",
    "# Drop the original date_of_birth column\n",
    "ufc_data = ufc_data.drop(columns=['date_of_birth'])"
   ]
  },
  {
   "cell_type": "code",
   "execution_count": 19,
   "id": "6d6f6df0-fe21-4595-b716-8b153a2251f2",
   "metadata": {},
   "outputs": [],
   "source": [
    "# Fill missing values in age with the average age (rounded to nearest integer)\n",
    "ufc_data['age'] = ufc_data['age'].fillna(ufc_data['age'].mean()).astype(int)"
   ]
  },
  {
   "cell_type": "code",
   "execution_count": 21,
   "id": "7ad57b46-2813-43a0-90e0-48d987dc9bb4",
   "metadata": {},
   "outputs": [
    {
     "data": {
      "text/plain": [
       "<bound method NDFrame.head of                    name  wins  losses  draws  height_cm  weight_in_kg  \\\n",
       "0       Robert Drysdale     7       0      0     190.50         92.99   \n",
       "1     Daniel McWilliams    15      37      0     185.42         83.91   \n",
       "2            Dan Molina    13       9      0     177.80         97.98   \n",
       "3             Paul Ruiz     7       4      0     167.64         61.23   \n",
       "4       Collin Huckbody     8       2      0     190.50         83.91   \n",
       "...                 ...   ...     ...    ...        ...           ...   \n",
       "4106    John Campetella     0       1      0     175.26        106.59   \n",
       "4107  Andre Pederneiras     1       1      2     172.72         70.31   \n",
       "4108      Bryson Kamaka    12      20      1     180.34         77.11   \n",
       "4109        Matej Penaz     6       1      0     190.50         83.91   \n",
       "4110     Pauline Macias     4       1      0     162.56         52.16   \n",
       "\n",
       "      reach_in_cm    stance  significant_strikes_landed_per_minute  \\\n",
       "0          190.50  Orthodox                                   0.00   \n",
       "1          185.42       NaN                                   3.36   \n",
       "2          177.80       NaN                                   0.00   \n",
       "3          167.64       NaN                                   1.40   \n",
       "4          193.04  Orthodox                                   2.05   \n",
       "...           ...       ...                                    ...   \n",
       "4106       175.26  Orthodox                                   0.00   \n",
       "4107       172.72  Orthodox                                   0.00   \n",
       "4108       180.34  Orthodox                                   9.47   \n",
       "4109       210.82  Southpaw                                   1.28   \n",
       "4110       162.56  Southpaw                                   0.80   \n",
       "\n",
       "      significant_striking_accuracy  significant_strikes_absorbed_per_minute  \\\n",
       "0                               0.0                                     0.00   \n",
       "1                              77.0                                     0.00   \n",
       "2                               0.0                                     5.58   \n",
       "3                              33.0                                     1.40   \n",
       "4                              60.0                                     2.73   \n",
       "...                             ...                                      ...   \n",
       "4106                            0.0                                     0.00   \n",
       "4107                            0.0                                     0.00   \n",
       "4108                           60.0                                    12.63   \n",
       "4109                           33.0                                     2.55   \n",
       "4110                           29.0                                     4.60   \n",
       "\n",
       "      significant_strike_defence  average_takedowns_landed_per_15_minutes  \\\n",
       "0                            0.0                                     7.32   \n",
       "1                            0.0                                     0.00   \n",
       "2                           60.0                                     0.00   \n",
       "3                           75.0                                     0.00   \n",
       "4                           42.0                                    10.23   \n",
       "...                          ...                                      ...   \n",
       "4106                         0.0                                     0.00   \n",
       "4107                         0.0                                     0.00   \n",
       "4108                         0.0                                     0.00   \n",
       "4109                        33.0                                     0.00   \n",
       "4110                        42.0                                     2.00   \n",
       "\n",
       "      takedown_accuracy  takedown_defense  \\\n",
       "0                 100.0               0.0   \n",
       "1                   0.0             100.0   \n",
       "2                   0.0               0.0   \n",
       "3                   0.0             100.0   \n",
       "4                 100.0               0.0   \n",
       "...                 ...               ...   \n",
       "4106                0.0               0.0   \n",
       "4107                0.0               0.0   \n",
       "4108                0.0             100.0   \n",
       "4109                0.0               0.0   \n",
       "4110               18.0               0.0   \n",
       "\n",
       "      average_submissions_attempted_per_15_minutes  age  \n",
       "0                                             21.9   43  \n",
       "1                                             21.6   38  \n",
       "2                                             20.9   38  \n",
       "3                                             20.9   38  \n",
       "4                                             20.4   30  \n",
       "...                                            ...  ...  \n",
       "4106                                           0.0   38  \n",
       "4107                                           0.0   58  \n",
       "4108                                           0.0   38  \n",
       "4109                                           0.0   28  \n",
       "4110                                           0.0   36  \n",
       "\n",
       "[4111 rows x 17 columns]>"
      ]
     },
     "execution_count": 21,
     "metadata": {},
     "output_type": "execute_result"
    }
   ],
   "source": [
    "ufc_data.head"
   ]
  },
  {
   "cell_type": "code",
   "execution_count": 23,
   "id": "d7a5bb55-b6d8-4804-a557-3478e0d03034",
   "metadata": {},
   "outputs": [
    {
     "name": "stdout",
     "output_type": "stream",
     "text": [
      "name                                              0\n",
      "wins                                              0\n",
      "losses                                            0\n",
      "draws                                             0\n",
      "height_cm                                       298\n",
      "weight_in_kg                                     87\n",
      "reach_in_cm                                     297\n",
      "stance                                          823\n",
      "significant_strikes_landed_per_minute             0\n",
      "significant_striking_accuracy                     0\n",
      "significant_strikes_absorbed_per_minute           0\n",
      "significant_strike_defence                        0\n",
      "average_takedowns_landed_per_15_minutes           0\n",
      "takedown_accuracy                                 0\n",
      "takedown_defense                                  0\n",
      "average_submissions_attempted_per_15_minutes      0\n",
      "age                                               0\n",
      "dtype: int64\n"
     ]
    }
   ],
   "source": [
    "print(ufc_data.isnull().sum())"
   ]
  },
  {
   "cell_type": "code",
   "execution_count": 25,
   "id": "9ca8162e-6b63-44f6-97b9-5c9f434c8420",
   "metadata": {},
   "outputs": [],
   "source": [
    "# Fill missing values in stance with 'Orthodox' because 80% of all fighters are orthodox\n",
    "ufc_data['stance'] = ufc_data['stance'].fillna('Orthodox')"
   ]
  },
  {
   "cell_type": "code",
   "execution_count": 27,
   "id": "94aec969-dc88-4151-888f-f435ee277631",
   "metadata": {},
   "outputs": [
    {
     "name": "stdout",
     "output_type": "stream",
     "text": [
      "name                                              0\n",
      "wins                                              0\n",
      "losses                                            0\n",
      "draws                                             0\n",
      "height_cm                                       298\n",
      "weight_in_kg                                     87\n",
      "reach_in_cm                                     297\n",
      "stance                                            0\n",
      "significant_strikes_landed_per_minute             0\n",
      "significant_striking_accuracy                     0\n",
      "significant_strikes_absorbed_per_minute           0\n",
      "significant_strike_defence                        0\n",
      "average_takedowns_landed_per_15_minutes           0\n",
      "takedown_accuracy                                 0\n",
      "takedown_defense                                  0\n",
      "average_submissions_attempted_per_15_minutes      0\n",
      "age                                               0\n",
      "dtype: int64\n"
     ]
    }
   ],
   "source": [
    "print(ufc_data.isnull().sum())"
   ]
  },
  {
   "cell_type": "code",
   "execution_count": 29,
   "id": "5336b0e7-c79c-467e-ae8b-7929e967f044",
   "metadata": {},
   "outputs": [],
   "source": [
    "# Fill missing values in numeric columns with their respective column means\n",
    "ufc_data = ufc_data.fillna(ufc_data.mean(numeric_only=True))"
   ]
  },
  {
   "cell_type": "code",
   "execution_count": 31,
   "id": "2aeef4e5-3aab-46da-b291-415231c591ba",
   "metadata": {},
   "outputs": [
    {
     "name": "stdout",
     "output_type": "stream",
     "text": [
      "name                                            0\n",
      "wins                                            0\n",
      "losses                                          0\n",
      "draws                                           0\n",
      "height_cm                                       0\n",
      "weight_in_kg                                    0\n",
      "reach_in_cm                                     0\n",
      "stance                                          0\n",
      "significant_strikes_landed_per_minute           0\n",
      "significant_striking_accuracy                   0\n",
      "significant_strikes_absorbed_per_minute         0\n",
      "significant_strike_defence                      0\n",
      "average_takedowns_landed_per_15_minutes         0\n",
      "takedown_accuracy                               0\n",
      "takedown_defense                                0\n",
      "average_submissions_attempted_per_15_minutes    0\n",
      "age                                             0\n",
      "dtype: int64\n"
     ]
    }
   ],
   "source": [
    "print(ufc_data.isnull().sum())"
   ]
  },
  {
   "cell_type": "code",
   "execution_count": 33,
   "id": "106545a7-f228-4e2d-9112-38df6c76f5f9",
   "metadata": {},
   "outputs": [
    {
     "data": {
      "text/plain": [
       "<bound method NDFrame.head of                    name  wins  losses  draws  height_cm  weight_in_kg  \\\n",
       "0       Robert Drysdale     7       0      0     190.50         92.99   \n",
       "1     Daniel McWilliams    15      37      0     185.42         83.91   \n",
       "2            Dan Molina    13       9      0     177.80         97.98   \n",
       "3             Paul Ruiz     7       4      0     167.64         61.23   \n",
       "4       Collin Huckbody     8       2      0     190.50         83.91   \n",
       "...                 ...   ...     ...    ...        ...           ...   \n",
       "4106    John Campetella     0       1      0     175.26        106.59   \n",
       "4107  Andre Pederneiras     1       1      2     172.72         70.31   \n",
       "4108      Bryson Kamaka    12      20      1     180.34         77.11   \n",
       "4109        Matej Penaz     6       1      0     190.50         83.91   \n",
       "4110     Pauline Macias     4       1      0     162.56         52.16   \n",
       "\n",
       "      reach_in_cm    stance  significant_strikes_landed_per_minute  \\\n",
       "0          190.50  Orthodox                                   0.00   \n",
       "1          185.42  Orthodox                                   3.36   \n",
       "2          177.80  Orthodox                                   0.00   \n",
       "3          167.64  Orthodox                                   1.40   \n",
       "4          193.04  Orthodox                                   2.05   \n",
       "...           ...       ...                                    ...   \n",
       "4106       175.26  Orthodox                                   0.00   \n",
       "4107       172.72  Orthodox                                   0.00   \n",
       "4108       180.34  Orthodox                                   9.47   \n",
       "4109       210.82  Southpaw                                   1.28   \n",
       "4110       162.56  Southpaw                                   0.80   \n",
       "\n",
       "      significant_striking_accuracy  significant_strikes_absorbed_per_minute  \\\n",
       "0                               0.0                                     0.00   \n",
       "1                              77.0                                     0.00   \n",
       "2                               0.0                                     5.58   \n",
       "3                              33.0                                     1.40   \n",
       "4                              60.0                                     2.73   \n",
       "...                             ...                                      ...   \n",
       "4106                            0.0                                     0.00   \n",
       "4107                            0.0                                     0.00   \n",
       "4108                           60.0                                    12.63   \n",
       "4109                           33.0                                     2.55   \n",
       "4110                           29.0                                     4.60   \n",
       "\n",
       "      significant_strike_defence  average_takedowns_landed_per_15_minutes  \\\n",
       "0                            0.0                                     7.32   \n",
       "1                            0.0                                     0.00   \n",
       "2                           60.0                                     0.00   \n",
       "3                           75.0                                     0.00   \n",
       "4                           42.0                                    10.23   \n",
       "...                          ...                                      ...   \n",
       "4106                         0.0                                     0.00   \n",
       "4107                         0.0                                     0.00   \n",
       "4108                         0.0                                     0.00   \n",
       "4109                        33.0                                     0.00   \n",
       "4110                        42.0                                     2.00   \n",
       "\n",
       "      takedown_accuracy  takedown_defense  \\\n",
       "0                 100.0               0.0   \n",
       "1                   0.0             100.0   \n",
       "2                   0.0               0.0   \n",
       "3                   0.0             100.0   \n",
       "4                 100.0               0.0   \n",
       "...                 ...               ...   \n",
       "4106                0.0               0.0   \n",
       "4107                0.0               0.0   \n",
       "4108                0.0             100.0   \n",
       "4109                0.0               0.0   \n",
       "4110               18.0               0.0   \n",
       "\n",
       "      average_submissions_attempted_per_15_minutes  age  \n",
       "0                                             21.9   43  \n",
       "1                                             21.6   38  \n",
       "2                                             20.9   38  \n",
       "3                                             20.9   38  \n",
       "4                                             20.4   30  \n",
       "...                                            ...  ...  \n",
       "4106                                           0.0   38  \n",
       "4107                                           0.0   58  \n",
       "4108                                           0.0   38  \n",
       "4109                                           0.0   28  \n",
       "4110                                           0.0   36  \n",
       "\n",
       "[4111 rows x 17 columns]>"
      ]
     },
     "execution_count": 33,
     "metadata": {},
     "output_type": "execute_result"
    }
   ],
   "source": [
    "ufc_data.head"
   ]
  },
  {
   "cell_type": "code",
   "execution_count": 35,
   "id": "b3d0f262-f18f-4ae0-be68-4c6c7c50ec4b",
   "metadata": {},
   "outputs": [
    {
     "data": {
      "text/plain": [
       "name                                             object\n",
       "wins                                              int64\n",
       "losses                                            int64\n",
       "draws                                             int64\n",
       "height_cm                                       float64\n",
       "weight_in_kg                                    float64\n",
       "reach_in_cm                                     float64\n",
       "stance                                           object\n",
       "significant_strikes_landed_per_minute           float64\n",
       "significant_striking_accuracy                   float64\n",
       "significant_strikes_absorbed_per_minute         float64\n",
       "significant_strike_defence                      float64\n",
       "average_takedowns_landed_per_15_minutes         float64\n",
       "takedown_accuracy                               float64\n",
       "takedown_defense                                float64\n",
       "average_submissions_attempted_per_15_minutes    float64\n",
       "age                                               int64\n",
       "dtype: object"
      ]
     },
     "execution_count": 35,
     "metadata": {},
     "output_type": "execute_result"
    }
   ],
   "source": [
    "ufc_data.dtypes"
   ]
  },
  {
   "cell_type": "code",
   "execution_count": 37,
   "id": "b49e4bf2-2bf9-4dfb-9b08-1fe5ce3217b8",
   "metadata": {},
   "outputs": [],
   "source": [
    "ufc_data[\"strike_differential\"] = (\n",
    "    ufc_data[\"significant_strikes_landed_per_minute\"] - \n",
    "    ufc_data[\"significant_strikes_absorbed_per_minute\"]\n",
    ")"
   ]
  },
  {
   "cell_type": "code",
   "execution_count": 39,
   "id": "660a9671-4088-4f42-bfc5-806808afcd8a",
   "metadata": {},
   "outputs": [],
   "source": [
    "ufc_data[\"win_percentage\"] = ufc_data[\"wins\"] / (ufc_data[\"wins\"] + ufc_data[\"losses\"] + ufc_data[\"draws\"])"
   ]
  },
  {
   "cell_type": "code",
   "execution_count": 41,
   "id": "f130536c-c9cb-49f2-862f-cc9d7aa6a14a",
   "metadata": {},
   "outputs": [],
   "source": [
    "ufc_data=ufc_data.dropna()"
   ]
  },
  {
   "cell_type": "code",
   "execution_count": 43,
   "id": "1d57f706-17e5-47b2-a40b-293da5c0931d",
   "metadata": {},
   "outputs": [
    {
     "data": {
      "text/html": [
       "<div>\n",
       "<style scoped>\n",
       "    .dataframe tbody tr th:only-of-type {\n",
       "        vertical-align: middle;\n",
       "    }\n",
       "\n",
       "    .dataframe tbody tr th {\n",
       "        vertical-align: top;\n",
       "    }\n",
       "\n",
       "    .dataframe thead th {\n",
       "        text-align: right;\n",
       "    }\n",
       "</style>\n",
       "<table border=\"1\" class=\"dataframe\">\n",
       "  <thead>\n",
       "    <tr style=\"text-align: right;\">\n",
       "      <th></th>\n",
       "      <th>name</th>\n",
       "      <th>wins</th>\n",
       "      <th>losses</th>\n",
       "      <th>draws</th>\n",
       "      <th>height_cm</th>\n",
       "      <th>weight_in_kg</th>\n",
       "      <th>reach_in_cm</th>\n",
       "      <th>stance</th>\n",
       "      <th>significant_strikes_landed_per_minute</th>\n",
       "      <th>significant_striking_accuracy</th>\n",
       "      <th>significant_strikes_absorbed_per_minute</th>\n",
       "      <th>significant_strike_defence</th>\n",
       "      <th>average_takedowns_landed_per_15_minutes</th>\n",
       "      <th>takedown_accuracy</th>\n",
       "      <th>takedown_defense</th>\n",
       "      <th>average_submissions_attempted_per_15_minutes</th>\n",
       "      <th>age</th>\n",
       "      <th>strike_differential</th>\n",
       "      <th>win_percentage</th>\n",
       "    </tr>\n",
       "  </thead>\n",
       "  <tbody>\n",
       "    <tr>\n",
       "      <th>0</th>\n",
       "      <td>Robert Drysdale</td>\n",
       "      <td>7</td>\n",
       "      <td>0</td>\n",
       "      <td>0</td>\n",
       "      <td>190.50</td>\n",
       "      <td>92.99</td>\n",
       "      <td>190.50</td>\n",
       "      <td>Orthodox</td>\n",
       "      <td>0.00</td>\n",
       "      <td>0.0</td>\n",
       "      <td>0.00</td>\n",
       "      <td>0.0</td>\n",
       "      <td>7.32</td>\n",
       "      <td>100.0</td>\n",
       "      <td>0.0</td>\n",
       "      <td>21.9</td>\n",
       "      <td>43</td>\n",
       "      <td>0.00</td>\n",
       "      <td>1.000000</td>\n",
       "    </tr>\n",
       "    <tr>\n",
       "      <th>1</th>\n",
       "      <td>Daniel McWilliams</td>\n",
       "      <td>15</td>\n",
       "      <td>37</td>\n",
       "      <td>0</td>\n",
       "      <td>185.42</td>\n",
       "      <td>83.91</td>\n",
       "      <td>185.42</td>\n",
       "      <td>Orthodox</td>\n",
       "      <td>3.36</td>\n",
       "      <td>77.0</td>\n",
       "      <td>0.00</td>\n",
       "      <td>0.0</td>\n",
       "      <td>0.00</td>\n",
       "      <td>0.0</td>\n",
       "      <td>100.0</td>\n",
       "      <td>21.6</td>\n",
       "      <td>38</td>\n",
       "      <td>3.36</td>\n",
       "      <td>0.288462</td>\n",
       "    </tr>\n",
       "    <tr>\n",
       "      <th>2</th>\n",
       "      <td>Dan Molina</td>\n",
       "      <td>13</td>\n",
       "      <td>9</td>\n",
       "      <td>0</td>\n",
       "      <td>177.80</td>\n",
       "      <td>97.98</td>\n",
       "      <td>177.80</td>\n",
       "      <td>Orthodox</td>\n",
       "      <td>0.00</td>\n",
       "      <td>0.0</td>\n",
       "      <td>5.58</td>\n",
       "      <td>60.0</td>\n",
       "      <td>0.00</td>\n",
       "      <td>0.0</td>\n",
       "      <td>0.0</td>\n",
       "      <td>20.9</td>\n",
       "      <td>38</td>\n",
       "      <td>-5.58</td>\n",
       "      <td>0.590909</td>\n",
       "    </tr>\n",
       "    <tr>\n",
       "      <th>3</th>\n",
       "      <td>Paul Ruiz</td>\n",
       "      <td>7</td>\n",
       "      <td>4</td>\n",
       "      <td>0</td>\n",
       "      <td>167.64</td>\n",
       "      <td>61.23</td>\n",
       "      <td>167.64</td>\n",
       "      <td>Orthodox</td>\n",
       "      <td>1.40</td>\n",
       "      <td>33.0</td>\n",
       "      <td>1.40</td>\n",
       "      <td>75.0</td>\n",
       "      <td>0.00</td>\n",
       "      <td>0.0</td>\n",
       "      <td>100.0</td>\n",
       "      <td>20.9</td>\n",
       "      <td>38</td>\n",
       "      <td>0.00</td>\n",
       "      <td>0.636364</td>\n",
       "    </tr>\n",
       "    <tr>\n",
       "      <th>4</th>\n",
       "      <td>Collin Huckbody</td>\n",
       "      <td>8</td>\n",
       "      <td>2</td>\n",
       "      <td>0</td>\n",
       "      <td>190.50</td>\n",
       "      <td>83.91</td>\n",
       "      <td>193.04</td>\n",
       "      <td>Orthodox</td>\n",
       "      <td>2.05</td>\n",
       "      <td>60.0</td>\n",
       "      <td>2.73</td>\n",
       "      <td>42.0</td>\n",
       "      <td>10.23</td>\n",
       "      <td>100.0</td>\n",
       "      <td>0.0</td>\n",
       "      <td>20.4</td>\n",
       "      <td>30</td>\n",
       "      <td>-0.68</td>\n",
       "      <td>0.800000</td>\n",
       "    </tr>\n",
       "  </tbody>\n",
       "</table>\n",
       "</div>"
      ],
      "text/plain": [
       "                name  wins  losses  draws  height_cm  weight_in_kg  \\\n",
       "0    Robert Drysdale     7       0      0     190.50         92.99   \n",
       "1  Daniel McWilliams    15      37      0     185.42         83.91   \n",
       "2         Dan Molina    13       9      0     177.80         97.98   \n",
       "3          Paul Ruiz     7       4      0     167.64         61.23   \n",
       "4    Collin Huckbody     8       2      0     190.50         83.91   \n",
       "\n",
       "   reach_in_cm    stance  significant_strikes_landed_per_minute  \\\n",
       "0       190.50  Orthodox                                   0.00   \n",
       "1       185.42  Orthodox                                   3.36   \n",
       "2       177.80  Orthodox                                   0.00   \n",
       "3       167.64  Orthodox                                   1.40   \n",
       "4       193.04  Orthodox                                   2.05   \n",
       "\n",
       "   significant_striking_accuracy  significant_strikes_absorbed_per_minute  \\\n",
       "0                            0.0                                     0.00   \n",
       "1                           77.0                                     0.00   \n",
       "2                            0.0                                     5.58   \n",
       "3                           33.0                                     1.40   \n",
       "4                           60.0                                     2.73   \n",
       "\n",
       "   significant_strike_defence  average_takedowns_landed_per_15_minutes  \\\n",
       "0                         0.0                                     7.32   \n",
       "1                         0.0                                     0.00   \n",
       "2                        60.0                                     0.00   \n",
       "3                        75.0                                     0.00   \n",
       "4                        42.0                                    10.23   \n",
       "\n",
       "   takedown_accuracy  takedown_defense  \\\n",
       "0              100.0               0.0   \n",
       "1                0.0             100.0   \n",
       "2                0.0               0.0   \n",
       "3                0.0             100.0   \n",
       "4              100.0               0.0   \n",
       "\n",
       "   average_submissions_attempted_per_15_minutes  age  strike_differential  \\\n",
       "0                                          21.9   43                 0.00   \n",
       "1                                          21.6   38                 3.36   \n",
       "2                                          20.9   38                -5.58   \n",
       "3                                          20.9   38                 0.00   \n",
       "4                                          20.4   30                -0.68   \n",
       "\n",
       "   win_percentage  \n",
       "0        1.000000  \n",
       "1        0.288462  \n",
       "2        0.590909  \n",
       "3        0.636364  \n",
       "4        0.800000  "
      ]
     },
     "execution_count": 43,
     "metadata": {},
     "output_type": "execute_result"
    }
   ],
   "source": [
    "ufc_data.head()"
   ]
  },
  {
   "cell_type": "code",
   "execution_count": 45,
   "id": "c5d13e76-6173-4bba-9f1c-093d401c6021",
   "metadata": {},
   "outputs": [],
   "source": [
    "#Creating the weigh_class column\n",
    "def categorize_weight_class(weight):\n",
    "    if pd.isnull(weight):\n",
    "        return \"Unknown\"\n",
    "\n",
    "    weight_class_ranges = [\n",
    "        (\"Flyweight\", 0.0, 61.1),\n",
    "        (\"Bantamweight\", 61.1, 65.7),\n",
    "        (\"Featherweight\", 65.7, 70.2),\n",
    "        (\"Lightweight\", 70.2, 77.0),\n",
    "        (\"Welterweight\", 77.0, 83.8),\n",
    "        (\"Middleweight\", 83.8, 92.9),\n",
    "        (\"Light Heavyweight\", 92.9, 120.2),\n",
    "        (\"Heavyweight\", 120.2, float('inf'))\n",
    "    ]\n",
    "\n",
    "    for class_name, low, high in weight_class_ranges:\n",
    "        if low <= weight <= high:\n",
    "            return class_name\n",
    "\n",
    "    return \"Unknown\"\n",
    "\n",
    "ufc_data = ufc_data.assign(\n",
    "    weight_class=ufc_data['weight_in_kg'].apply(categorize_weight_class)\n",
    ")\n",
    "\n"
   ]
  },
  {
   "cell_type": "code",
   "execution_count": 47,
   "id": "834f1fb4-7aa0-4a24-8ee3-7eb816741198",
   "metadata": {},
   "outputs": [],
   "source": [
    "#Making weigh class dataframes\n",
    "weight_class_ranges = [\n",
    "        (\"Flyweight\", 0.0, 61.1),\n",
    "        (\"Bantamweight\", 61.1, 65.7),\n",
    "        (\"Featherweight\", 65.7, 70.2),\n",
    "        (\"Lightweight\", 70.2, 77.0),\n",
    "        (\"Welterweight\", 77.0, 83.8),\n",
    "        (\"Middleweight\", 83.8, 92.9),\n",
    "        (\"Light Heavyweight\", 92.9, 120.2),\n",
    "        (\"Heavyweight\", 120.2, float('inf'))\n",
    "]\n",
    "\n",
    "# Split into DataFrames with a small tolerance for boundary issues\n",
    "weight_class_dfs = {}\n",
    "\n",
    "tolerance = 1e-6  # Small tolerance to handle floating-point precision errors\n",
    "\n",
    "for class_name, low, high in weight_class_ranges:\n",
    "    weight_class_dfs[class_name] = ufc_data[\n",
    "        (ufc_data['weight_in_kg'] >= low - tolerance) & (ufc_data['weight_in_kg'] <= high + tolerance)\n",
    "    ]\n",
    "\n"
   ]
  },
  {
   "cell_type": "code",
   "execution_count": 49,
   "id": "206e8e6e-cae0-447d-880c-bb2e34897077",
   "metadata": {},
   "outputs": [],
   "source": [
    "flyweight_df         = weight_class_dfs[\"Flyweight\"]\n",
    "bantamweight_df      = weight_class_dfs[\"Bantamweight\"]\n",
    "featherweight_df     = weight_class_dfs[\"Featherweight\"]\n",
    "lightweight_df       = weight_class_dfs[\"Lightweight\"]\n",
    "welterweight_df      = weight_class_dfs[\"Welterweight\"]\n",
    "middleweight_df      = weight_class_dfs[\"Middleweight\"]\n",
    "light_heavyweight_df = weight_class_dfs[\"Light Heavyweight\"]\n",
    "heavyweight_df       = weight_class_dfs[\"Heavyweight\"]\n"
   ]
  },
  {
   "cell_type": "code",
   "execution_count": 51,
   "id": "00726fab-c2cb-4016-893d-cb55d1c2a6fa",
   "metadata": {},
   "outputs": [
    {
     "data": {
      "text/plain": [
       "(416, 20)"
      ]
     },
     "execution_count": 51,
     "metadata": {},
     "output_type": "execute_result"
    }
   ],
   "source": [
    "flyweight_df.shape"
   ]
  },
  {
   "cell_type": "code",
   "execution_count": 53,
   "id": "92601f3b-7c3c-490a-9b62-166fca2d79ce",
   "metadata": {},
   "outputs": [
    {
     "data": {
      "text/plain": [
       "(472, 20)"
      ]
     },
     "execution_count": 53,
     "metadata": {},
     "output_type": "execute_result"
    }
   ],
   "source": [
    "bantamweight_df.shape"
   ]
  },
  {
   "cell_type": "code",
   "execution_count": 55,
   "id": "3196c2aa-a828-4577-8159-4839986def3f",
   "metadata": {},
   "outputs": [
    {
     "data": {
      "text/plain": [
       "(465, 20)"
      ]
     },
     "execution_count": 55,
     "metadata": {},
     "output_type": "execute_result"
    }
   ],
   "source": [
    "featherweight_df.shape"
   ]
  },
  {
   "cell_type": "code",
   "execution_count": 57,
   "id": "d234ffa1-28e1-4ca2-9724-92259bc02cc4",
   "metadata": {},
   "outputs": [
    {
     "data": {
      "text/plain": [
       "(648, 20)"
      ]
     },
     "execution_count": 57,
     "metadata": {},
     "output_type": "execute_result"
    }
   ],
   "source": [
    "lightweight_df.shape"
   ]
  },
  {
   "cell_type": "code",
   "execution_count": 59,
   "id": "0b999633-54e0-4bd6-acff-f8d744d13dcc",
   "metadata": {},
   "outputs": [
    {
     "data": {
      "text/plain": [
       "(707, 20)"
      ]
     },
     "execution_count": 59,
     "metadata": {},
     "output_type": "execute_result"
    }
   ],
   "source": [
    "welterweight_df.shape"
   ]
  },
  {
   "cell_type": "code",
   "execution_count": 61,
   "id": "70feb0e9-d0d5-47cb-916a-a6a2bb9df7db",
   "metadata": {},
   "outputs": [
    {
     "data": {
      "text/plain": [
       "(557, 20)"
      ]
     },
     "execution_count": 61,
     "metadata": {},
     "output_type": "execute_result"
    }
   ],
   "source": [
    "middleweight_df.shape"
   ]
  },
  {
   "cell_type": "code",
   "execution_count": 63,
   "id": "328af773-dbdd-46f5-9d8f-906badc54b80",
   "metadata": {},
   "outputs": [
    {
     "data": {
      "text/plain": [
       "(781, 20)"
      ]
     },
     "execution_count": 63,
     "metadata": {},
     "output_type": "execute_result"
    }
   ],
   "source": [
    "light_heavyweight_df.shape"
   ]
  },
  {
   "cell_type": "code",
   "execution_count": 65,
   "id": "0f3b417f-7d02-48fa-a2f1-9d496388a452",
   "metadata": {},
   "outputs": [
    {
     "data": {
      "text/plain": [
       "(115, 20)"
      ]
     },
     "execution_count": 65,
     "metadata": {},
     "output_type": "execute_result"
    }
   ],
   "source": [
    "heavyweight_df.shape"
   ]
  },
  {
   "cell_type": "code",
   "execution_count": 67,
   "id": "33f4a03e-b224-4052-a2e7-028ca7b3e814",
   "metadata": {},
   "outputs": [
    {
     "name": "stdout",
     "output_type": "stream",
     "text": [
      "Best Parameters: {'model__learning_rate': 0.03, 'model__max_depth': 3, 'model__n_estimators': 200}\n",
      "\n",
      "Average RMSE: 0.1741\n",
      "Average R²: 0.1976\n",
      "RMSE per fold: [0.1660393448721911, 0.17804360768671124, 0.1782066438344551, 0.17548475677112274, 0.17263409871918023]\n",
      "R² per fold: [0.15261286848278155, 0.22605162742132512, 0.1866174495909695, 0.19039257491394257, 0.23208685780089144]\n"
     ]
    },
    {
     "data": {
      "image/png": "[encoded data removed]",
      "text/plain": [
       "<Figure size 1200x800 with 1 Axes>"
      ]
     },
     "metadata": {},
     "output_type": "display_data"
    }
   ],
   "source": [
    "#Gradient Boosting Model with K-Fold Cross Validation\n",
    "\n",
    "import pandas as pd\n",
    "import numpy as np\n",
    "import matplotlib.pyplot as plt\n",
    "import xgboost as xgb\n",
    "\n",
    "from sklearn.model_selection import KFold, GridSearchCV\n",
    "from sklearn.metrics import mean_squared_error, r2_score\n",
    "from sklearn.pipeline import Pipeline\n",
    "from sklearn.preprocessing import StandardScaler\n",
    "\n",
    "# Copy the original dataset\n",
    "fighter_data = ufc_data.copy()\n",
    "\n",
    "# Feature Engineering\n",
    "fighter_data[\"height_reach_ratio\"] = fighter_data[\"height_cm\"] / fighter_data[\"reach_in_cm\"]\n",
    "fighter_data[\"off_strike_ratio\"] = fighter_data[\"significant_strikes_landed_per_minute\"] / (\n",
    "    fighter_data[\"significant_strikes_absorbed_per_minute\"] + 1e-6)\n",
    "fighter_data[\"grappling_combo\"] = (\n",
    "    fighter_data[\"average_takedowns_landed_per_15_minutes\"] +\n",
    "    fighter_data[\"average_submissions_attempted_per_15_minutes\"]\n",
    ")\n",
    "\n",
    "# Drop irrelevant or non-numeric columns\n",
    "fighter_data = fighter_data.drop(columns=[\"name\", \"stance\", \"age\", \"weight_in_kg\", \"wins\", \"losses\", \"draws\", \"weight_class\"], errors=\"ignore\")\n",
    "\n",
    "# Drop missing/infinite values\n",
    "fighter_data = fighter_data.replace([np.inf, -np.inf], np.nan).dropna()\n",
    "\n",
    "# Define X and y\n",
    "X = fighter_data.drop(columns=[\"win_percentage\"])\n",
    "y = fighter_data[\"win_percentage\"]\n",
    "\n",
    "# Build pipeline\n",
    "pipeline = Pipeline([\n",
    "    (\"scaler\", StandardScaler()),\n",
    "    (\"model\", xgb.XGBRegressor(random_state=42, verbosity=0))\n",
    "])\n",
    "\n",
    "# Grid Search Parameters\n",
    "param_grid = {\n",
    "    \"model__n_estimators\": [100, 200],\n",
    "    \"model__learning_rate\": [0.01, 0.03],\n",
    "    \"model__max_depth\": [3, 4, 5]\n",
    "}\n",
    "\n",
    "# K-Fold Cross Validation\n",
    "kf = KFold(n_splits=5, shuffle=True, random_state=42)\n",
    "grid_search = GridSearchCV(pipeline, param_grid, cv=kf, scoring=\"neg_mean_squared_error\", n_jobs=-1)\n",
    "grid_search.fit(X, y)\n",
    "\n",
    "# Best Estimator\n",
    "best_model = grid_search.best_estimator_\n",
    "print(f\"Best Parameters: {grid_search.best_params_}\")\n",
    "\n",
    "# Evaluate Model\n",
    "rmse_scores = []\n",
    "r2_scores = []\n",
    "\n",
    "for train_idx, test_idx in kf.split(X):\n",
    "    X_train, X_test = X.iloc[train_idx], X.iloc[test_idx]\n",
    "    y_train, y_test = y.iloc[train_idx], y.iloc[test_idx]\n",
    "\n",
    "    best_model.fit(X_train, y_train)\n",
    "    y_pred = best_model.predict(X_test)\n",
    "\n",
    "    rmse_scores.append(np.sqrt(mean_squared_error(y_test, y_pred)))\n",
    "    r2_scores.append(r2_score(y_test, y_pred))\n",
    "\n",
    "print(f\"\\nAverage RMSE: {np.mean(rmse_scores):.4f}\")\n",
    "print(f\"Average R²: {np.mean(r2_scores):.4f}\")\n",
    "print(f\"RMSE per fold: {rmse_scores}\")\n",
    "print(f\"R² per fold: {r2_scores}\")\n",
    "\n",
    "# Manual Feature Importance Plotting (Features on X-axis) - Larger Figure\n",
    "importance = best_model.named_steps['model'].feature_importances_\n",
    "feature_names = X.columns\n",
    "sorted_indices = np.argsort(importance)[::-1]\n",
    "\n",
    "plt.figure(figsize=(12, 8))  # Increased figure size (width, height)\n",
    "plt.bar(range(len(importance)), importance[sorted_indices], align='center')\n",
    "plt.xticks(range(len(importance)), feature_names[sorted_indices], rotation='vertical')\n",
    "plt.ylabel('Importance Score')\n",
    "plt.xlabel('Feature')\n",
    "plt.title('Feature Importance for Winning Percentage Prediction')\n",
    "plt.tight_layout()\n",
    "plt.show()"
   ]
  },
  {
   "cell_type": "code",
   "execution_count": 68,
   "id": "b4de8f33-526c-490e-bd7b-4797122f4c03",
   "metadata": {},
   "outputs": [
    {
     "name": "stdout",
     "output_type": "stream",
     "text": [
      "Model accuracy: 0.7415730337078652\n"
     ]
    }
   ],
   "source": [
    "#Making Predictions Using the Flyweight Dataset\n",
    "import pandas as pd\n",
    "import numpy as np\n",
    "from sklearn.ensemble import RandomForestClassifier\n",
    "from sklearn.model_selection import train_test_split\n",
    "from sklearn.metrics import accuracy_score\n",
    "\n",
    "# Use your DataFrame\n",
    "df = flyweight_df.drop_duplicates(subset=\"name\").set_index(\"name\")\n",
    "\n",
    "# Simulate 5,000 random matchups\n",
    "matchups = pd.DataFrame({\n",
    "    \"fighter_1\": np.random.choice(df.index, 5000),\n",
    "    \"fighter_2\": np.random.choice(df.index, 5000)\n",
    "})\n",
    "\n",
    "# Drop rows where both fighters are the same\n",
    "matchups = matchups[matchups[\"fighter_1\"] != matchups[\"fighter_2\"]]\n",
    "\n",
    "# Merge fighter stats\n",
    "f1 = df.add_prefix(\"f1_\")\n",
    "f2 = df.add_prefix(\"f2_\")\n",
    "\n",
    "matchups = matchups.join(f1, on=\"fighter_1\")\n",
    "matchups = matchups.join(f2, on=\"fighter_2\")\n",
    "\n",
    "# List of numerical features to calculate differences for\n",
    "numerical_cols = [\n",
    "    \"losses\", \"draws\", \"height_cm\", \"weight_in_kg\", \"reach_in_cm\",\n",
    "    \"significant_strikes_landed_per_minute\", \"significant_striking_accuracy\",\n",
    "    \"significant_strikes_absorbed_per_minute\", \"significant_strike_defence\",\n",
    "    \"average_takedowns_landed_per_15_minutes\", \"takedown_accuracy\", \"takedown_defense\",\n",
    "    \"average_submissions_attempted_per_15_minutes\", \"age\"\n",
    "]\n",
    "\n",
    "# Calculate feature differences\n",
    "features = []\n",
    "for col in numerical_cols:\n",
    "    diff_col = f\"{col}_diff\"\n",
    "    matchups[diff_col] = matchups[f\"f1_{col}\"] - matchups[f\"f2_{col}\"]\n",
    "    features.append(diff_col)\n",
    "\n",
    "# Create labels using wins as a proxy for skill (1 if fighter_1 has more wins)\n",
    "matchups[\"label\"] = (matchups[\"f1_wins\"] > matchups[\"f2_wins\"]).astype(int)\n",
    "\n",
    "# Prepare data for training\n",
    "X = matchups[features]\n",
    "y = matchups[\"label\"]\n",
    "\n",
    "# Split into train/test sets\n",
    "X_train, X_test, y_train, y_test = train_test_split(X, y, stratify=y, random_state=42)\n",
    "\n",
    "# Train a classifier\n",
    "model = RandomForestClassifier(n_estimators=200, random_state=42)\n",
    "model.fit(X_train, y_train)\n",
    "\n",
    "# Accuracy on test data\n",
    "print(\"Model accuracy:\", accuracy_score(y_test, model.predict(X_test)))\n",
    "\n",
    "# Predict matchup outcome\n",
    "def predict_winner(fighter_1, fighter_2):\n",
    "    try:\n",
    "        f1_stats = df.loc[fighter_1]\n",
    "        f2_stats = df.loc[fighter_2]\n",
    "    except KeyError:\n",
    "        return \"One or both fighter names not found.\"\n",
    "\n",
    "    row = {}\n",
    "    for col in numerical_cols:\n",
    "        row[f\"{col}_diff\"] = f1_stats[col] - f2_stats[col]\n",
    "\n",
    "    input_df = pd.DataFrame([row])\n",
    "    pred = model.predict(input_df)[0]\n",
    "    prob = model.predict_proba(input_df)[0][pred]\n",
    "\n",
    "    winner = fighter_1 if pred == 1 else fighter_2\n",
    "    return f\"{winner} is more likely to win (Confidence: {prob:.2f})\"\n"
   ]
  },
  {
   "cell_type": "code",
   "execution_count": 69,
   "id": "97992c00-55b6-4bfc-a5f8-43fb5c27b78f",
   "metadata": {},
   "outputs": [
    {
     "data": {
      "text/html": [
       "<div>\n",
       "<style scoped>\n",
       "    .dataframe tbody tr th:only-of-type {\n",
       "        vertical-align: middle;\n",
       "    }\n",
       "\n",
       "    .dataframe tbody tr th {\n",
       "        vertical-align: top;\n",
       "    }\n",
       "\n",
       "    .dataframe thead th {\n",
       "        text-align: right;\n",
       "    }\n",
       "</style>\n",
       "<table border=\"1\" class=\"dataframe\">\n",
       "  <thead>\n",
       "    <tr style=\"text-align: right;\">\n",
       "      <th></th>\n",
       "      <th>name</th>\n",
       "      <th>wins</th>\n",
       "      <th>losses</th>\n",
       "      <th>draws</th>\n",
       "      <th>height_cm</th>\n",
       "      <th>weight_in_kg</th>\n",
       "      <th>reach_in_cm</th>\n",
       "      <th>stance</th>\n",
       "      <th>significant_strikes_landed_per_minute</th>\n",
       "      <th>significant_striking_accuracy</th>\n",
       "      <th>significant_strikes_absorbed_per_minute</th>\n",
       "      <th>significant_strike_defence</th>\n",
       "      <th>average_takedowns_landed_per_15_minutes</th>\n",
       "      <th>takedown_accuracy</th>\n",
       "      <th>takedown_defense</th>\n",
       "      <th>average_submissions_attempted_per_15_minutes</th>\n",
       "      <th>age</th>\n",
       "      <th>strike_differential</th>\n",
       "      <th>win_percentage</th>\n",
       "      <th>weight_class</th>\n",
       "    </tr>\n",
       "  </thead>\n",
       "  <tbody>\n",
       "    <tr>\n",
       "      <th>13</th>\n",
       "      <td>Megumi Fujii</td>\n",
       "      <td>26</td>\n",
       "      <td>3</td>\n",
       "      <td>0</td>\n",
       "      <td>160.02</td>\n",
       "      <td>51.26</td>\n",
       "      <td>160.02</td>\n",
       "      <td>Orthodox</td>\n",
       "      <td>2.40</td>\n",
       "      <td>42.0</td>\n",
       "      <td>0.00</td>\n",
       "      <td>100.0</td>\n",
       "      <td>0.00</td>\n",
       "      <td>0.0</td>\n",
       "      <td>0.0</td>\n",
       "      <td>12.0</td>\n",
       "      <td>38</td>\n",
       "      <td>2.40</td>\n",
       "      <td>0.896552</td>\n",
       "      <td>Flyweight</td>\n",
       "    </tr>\n",
       "    <tr>\n",
       "      <th>22</th>\n",
       "      <td>Dione Barbosa</td>\n",
       "      <td>6</td>\n",
       "      <td>2</td>\n",
       "      <td>0</td>\n",
       "      <td>167.64</td>\n",
       "      <td>56.70</td>\n",
       "      <td>167.64</td>\n",
       "      <td>Orthodox</td>\n",
       "      <td>0.87</td>\n",
       "      <td>50.0</td>\n",
       "      <td>0.65</td>\n",
       "      <td>66.0</td>\n",
       "      <td>3.27</td>\n",
       "      <td>100.0</td>\n",
       "      <td>0.0</td>\n",
       "      <td>9.8</td>\n",
       "      <td>33</td>\n",
       "      <td>0.22</td>\n",
       "      <td>0.750000</td>\n",
       "      <td>Flyweight</td>\n",
       "    </tr>\n",
       "    <tr>\n",
       "      <th>37</th>\n",
       "      <td>Klayton Mai</td>\n",
       "      <td>8</td>\n",
       "      <td>3</td>\n",
       "      <td>0</td>\n",
       "      <td>175.26</td>\n",
       "      <td>56.70</td>\n",
       "      <td>175.26</td>\n",
       "      <td>Orthodox</td>\n",
       "      <td>1.53</td>\n",
       "      <td>42.0</td>\n",
       "      <td>1.02</td>\n",
       "      <td>63.0</td>\n",
       "      <td>3.83</td>\n",
       "      <td>100.0</td>\n",
       "      <td>0.0</td>\n",
       "      <td>7.7</td>\n",
       "      <td>38</td>\n",
       "      <td>0.51</td>\n",
       "      <td>0.727273</td>\n",
       "      <td>Flyweight</td>\n",
       "    </tr>\n",
       "    <tr>\n",
       "      <th>64</th>\n",
       "      <td>Nick Garcia</td>\n",
       "      <td>8</td>\n",
       "      <td>3</td>\n",
       "      <td>0</td>\n",
       "      <td>162.56</td>\n",
       "      <td>56.70</td>\n",
       "      <td>162.56</td>\n",
       "      <td>Orthodox</td>\n",
       "      <td>0.67</td>\n",
       "      <td>25.0</td>\n",
       "      <td>3.03</td>\n",
       "      <td>50.0</td>\n",
       "      <td>0.00</td>\n",
       "      <td>0.0</td>\n",
       "      <td>83.0</td>\n",
       "      <td>5.1</td>\n",
       "      <td>38</td>\n",
       "      <td>-2.36</td>\n",
       "      <td>0.727273</td>\n",
       "      <td>Flyweight</td>\n",
       "    </tr>\n",
       "    <tr>\n",
       "      <th>69</th>\n",
       "      <td>Ronaldo Candido</td>\n",
       "      <td>6</td>\n",
       "      <td>0</td>\n",
       "      <td>0</td>\n",
       "      <td>167.64</td>\n",
       "      <td>56.70</td>\n",
       "      <td>167.64</td>\n",
       "      <td>Southpaw</td>\n",
       "      <td>1.67</td>\n",
       "      <td>42.0</td>\n",
       "      <td>3.87</td>\n",
       "      <td>52.0</td>\n",
       "      <td>8.00</td>\n",
       "      <td>53.0</td>\n",
       "      <td>0.0</td>\n",
       "      <td>5.0</td>\n",
       "      <td>36</td>\n",
       "      <td>-2.20</td>\n",
       "      <td>1.000000</td>\n",
       "      <td>Flyweight</td>\n",
       "    </tr>\n",
       "    <tr>\n",
       "      <th>72</th>\n",
       "      <td>Billy Pasulatan</td>\n",
       "      <td>10</td>\n",
       "      <td>3</td>\n",
       "      <td>0</td>\n",
       "      <td>165.10</td>\n",
       "      <td>56.70</td>\n",
       "      <td>167.64</td>\n",
       "      <td>Switch</td>\n",
       "      <td>0.65</td>\n",
       "      <td>20.0</td>\n",
       "      <td>5.22</td>\n",
       "      <td>48.0</td>\n",
       "      <td>0.00</td>\n",
       "      <td>0.0</td>\n",
       "      <td>0.0</td>\n",
       "      <td>4.9</td>\n",
       "      <td>33</td>\n",
       "      <td>-4.57</td>\n",
       "      <td>0.769231</td>\n",
       "      <td>Flyweight</td>\n",
       "    </tr>\n",
       "    <tr>\n",
       "      <th>81</th>\n",
       "      <td>Jimmy Flick</td>\n",
       "      <td>16</td>\n",
       "      <td>7</td>\n",
       "      <td>0</td>\n",
       "      <td>170.18</td>\n",
       "      <td>56.70</td>\n",
       "      <td>172.72</td>\n",
       "      <td>Orthodox</td>\n",
       "      <td>1.99</td>\n",
       "      <td>50.0</td>\n",
       "      <td>5.05</td>\n",
       "      <td>38.0</td>\n",
       "      <td>1.66</td>\n",
       "      <td>27.0</td>\n",
       "      <td>0.0</td>\n",
       "      <td>4.4</td>\n",
       "      <td>34</td>\n",
       "      <td>-3.06</td>\n",
       "      <td>0.695652</td>\n",
       "      <td>Flyweight</td>\n",
       "    </tr>\n",
       "    <tr>\n",
       "      <th>82</th>\n",
       "      <td>Kaline Medeiros</td>\n",
       "      <td>8</td>\n",
       "      <td>5</td>\n",
       "      <td>0</td>\n",
       "      <td>160.02</td>\n",
       "      <td>52.16</td>\n",
       "      <td>160.02</td>\n",
       "      <td>Orthodox</td>\n",
       "      <td>2.06</td>\n",
       "      <td>70.0</td>\n",
       "      <td>0.29</td>\n",
       "      <td>83.0</td>\n",
       "      <td>4.41</td>\n",
       "      <td>100.0</td>\n",
       "      <td>0.0</td>\n",
       "      <td>4.4</td>\n",
       "      <td>38</td>\n",
       "      <td>1.77</td>\n",
       "      <td>0.615385</td>\n",
       "      <td>Flyweight</td>\n",
       "    </tr>\n",
       "    <tr>\n",
       "      <th>83</th>\n",
       "      <td>Takeru Uchida</td>\n",
       "      <td>6</td>\n",
       "      <td>1</td>\n",
       "      <td>0</td>\n",
       "      <td>165.10</td>\n",
       "      <td>56.70</td>\n",
       "      <td>172.72</td>\n",
       "      <td>Southpaw</td>\n",
       "      <td>0.00</td>\n",
       "      <td>0.0</td>\n",
       "      <td>0.00</td>\n",
       "      <td>0.0</td>\n",
       "      <td>0.00</td>\n",
       "      <td>0.0</td>\n",
       "      <td>0.0</td>\n",
       "      <td>4.4</td>\n",
       "      <td>22</td>\n",
       "      <td>0.00</td>\n",
       "      <td>0.857143</td>\n",
       "      <td>Flyweight</td>\n",
       "    </tr>\n",
       "    <tr>\n",
       "      <th>101</th>\n",
       "      <td>Karine Silva</td>\n",
       "      <td>17</td>\n",
       "      <td>4</td>\n",
       "      <td>0</td>\n",
       "      <td>165.10</td>\n",
       "      <td>56.70</td>\n",
       "      <td>170.18</td>\n",
       "      <td>Orthodox</td>\n",
       "      <td>3.37</td>\n",
       "      <td>35.0</td>\n",
       "      <td>3.37</td>\n",
       "      <td>50.0</td>\n",
       "      <td>2.45</td>\n",
       "      <td>60.0</td>\n",
       "      <td>0.0</td>\n",
       "      <td>4.1</td>\n",
       "      <td>31</td>\n",
       "      <td>0.00</td>\n",
       "      <td>0.809524</td>\n",
       "      <td>Flyweight</td>\n",
       "    </tr>\n",
       "  </tbody>\n",
       "</table>\n",
       "</div>"
      ],
      "text/plain": [
       "                name  wins  losses  draws  height_cm  weight_in_kg  \\\n",
       "13      Megumi Fujii    26       3      0     160.02         51.26   \n",
       "22     Dione Barbosa     6       2      0     167.64         56.70   \n",
       "37       Klayton Mai     8       3      0     175.26         56.70   \n",
       "64       Nick Garcia     8       3      0     162.56         56.70   \n",
       "69   Ronaldo Candido     6       0      0     167.64         56.70   \n",
       "72   Billy Pasulatan    10       3      0     165.10         56.70   \n",
       "81       Jimmy Flick    16       7      0     170.18         56.70   \n",
       "82   Kaline Medeiros     8       5      0     160.02         52.16   \n",
       "83     Takeru Uchida     6       1      0     165.10         56.70   \n",
       "101     Karine Silva    17       4      0     165.10         56.70   \n",
       "\n",
       "     reach_in_cm    stance  significant_strikes_landed_per_minute  \\\n",
       "13        160.02  Orthodox                                   2.40   \n",
       "22        167.64  Orthodox                                   0.87   \n",
       "37        175.26  Orthodox                                   1.53   \n",
       "64        162.56  Orthodox                                   0.67   \n",
       "69        167.64  Southpaw                                   1.67   \n",
       "72        167.64    Switch                                   0.65   \n",
       "81        172.72  Orthodox                                   1.99   \n",
       "82        160.02  Orthodox                                   2.06   \n",
       "83        172.72  Southpaw                                   0.00   \n",
       "101       170.18  Orthodox                                   3.37   \n",
       "\n",
       "     significant_striking_accuracy  significant_strikes_absorbed_per_minute  \\\n",
       "13                            42.0                                     0.00   \n",
       "22                            50.0                                     0.65   \n",
       "37                            42.0                                     1.02   \n",
       "64                            25.0                                     3.03   \n",
       "69                            42.0                                     3.87   \n",
       "72                            20.0                                     5.22   \n",
       "81                            50.0                                     5.05   \n",
       "82                            70.0                                     0.29   \n",
       "83                             0.0                                     0.00   \n",
       "101                           35.0                                     3.37   \n",
       "\n",
       "     significant_strike_defence  average_takedowns_landed_per_15_minutes  \\\n",
       "13                        100.0                                     0.00   \n",
       "22                         66.0                                     3.27   \n",
       "37                         63.0                                     3.83   \n",
       "64                         50.0                                     0.00   \n",
       "69                         52.0                                     8.00   \n",
       "72                         48.0                                     0.00   \n",
       "81                         38.0                                     1.66   \n",
       "82                         83.0                                     4.41   \n",
       "83                          0.0                                     0.00   \n",
       "101                        50.0                                     2.45   \n",
       "\n",
       "     takedown_accuracy  takedown_defense  \\\n",
       "13                 0.0               0.0   \n",
       "22               100.0               0.0   \n",
       "37               100.0               0.0   \n",
       "64                 0.0              83.0   \n",
       "69                53.0               0.0   \n",
       "72                 0.0               0.0   \n",
       "81                27.0               0.0   \n",
       "82               100.0               0.0   \n",
       "83                 0.0               0.0   \n",
       "101               60.0               0.0   \n",
       "\n",
       "     average_submissions_attempted_per_15_minutes  age  strike_differential  \\\n",
       "13                                           12.0   38                 2.40   \n",
       "22                                            9.8   33                 0.22   \n",
       "37                                            7.7   38                 0.51   \n",
       "64                                            5.1   38                -2.36   \n",
       "69                                            5.0   36                -2.20   \n",
       "72                                            4.9   33                -4.57   \n",
       "81                                            4.4   34                -3.06   \n",
       "82                                            4.4   38                 1.77   \n",
       "83                                            4.4   22                 0.00   \n",
       "101                                           4.1   31                 0.00   \n",
       "\n",
       "     win_percentage weight_class  \n",
       "13         0.896552    Flyweight  \n",
       "22         0.750000    Flyweight  \n",
       "37         0.727273    Flyweight  \n",
       "64         0.727273    Flyweight  \n",
       "69         1.000000    Flyweight  \n",
       "72         0.769231    Flyweight  \n",
       "81         0.695652    Flyweight  \n",
       "82         0.615385    Flyweight  \n",
       "83         0.857143    Flyweight  \n",
       "101        0.809524    Flyweight  "
      ]
     },
     "execution_count": 69,
     "metadata": {},
     "output_type": "execute_result"
    }
   ],
   "source": [
    "flyweight_df.head(10)"
   ]
  },
  {
   "cell_type": "code",
   "execution_count": 70,
   "id": "f261de3f-4d22-4fc7-9859-7cec488c15d1",
   "metadata": {},
   "outputs": [
    {
     "data": {
      "text/plain": [
       "'Brandon Moreno is more likely to win (Confidence: 0.70)'"
      ]
     },
     "execution_count": 70,
     "metadata": {},
     "output_type": "execute_result"
    }
   ],
   "source": [
    "predict_winner(\"Alexandre Pantoja\", \"Brandon Moreno\")\n",
    "#they have fought 3 times and its 3-0\n"
   ]
  },
  {
   "cell_type": "code",
   "execution_count": 71,
   "id": "1655935f-227a-46d9-bf3f-59f27355fa0e",
   "metadata": {},
   "outputs": [
    {
     "data": {
      "text/plain": [
       "'Brandon Moreno is more likely to win (Confidence: 0.72)'"
      ]
     },
     "execution_count": 71,
     "metadata": {},
     "output_type": "execute_result"
    }
   ],
   "source": [
    "predict_winner(\"Francisco Figueiredo\", \"Brandon Moreno\")\n",
    "#they have fought 3 times and its 1-1-1"
   ]
  },
  {
   "cell_type": "code",
   "execution_count": 72,
   "id": "33569490-39bc-4197-93e0-d5b58a32de5d",
   "metadata": {},
   "outputs": [
    {
     "data": {
      "text/plain": [
       "'Demetrious Johnson is more likely to win (Confidence: 0.59)'"
      ]
     },
     "execution_count": 72,
     "metadata": {},
     "output_type": "execute_result"
    }
   ],
   "source": [
    "predict_winner(\"Demetrious Johnson\", \"Alexandre Pantoja\")"
   ]
  },
  {
   "cell_type": "code",
   "execution_count": 73,
   "id": "0df3f20e-409d-4c45-888e-c10b531348ea",
   "metadata": {},
   "outputs": [
    {
     "data": {
      "text/plain": [
       "'Brandon Moreno is more likely to win (Confidence: 0.54)'"
      ]
     },
     "execution_count": 73,
     "metadata": {},
     "output_type": "execute_result"
    }
   ],
   "source": [
    "predict_winner(\"Kai Kara-France\", \"Brandon Moreno\")\n",
    "#they have fought twice and its 0-2"
   ]
  },
  {
   "cell_type": "code",
   "execution_count": null,
   "id": "e6899752-4265-4fab-ab1b-6be437f81a6b",
   "metadata": {},
   "outputs": [],
   "source": []
  },
  {
   "cell_type": "code",
   "execution_count": null,
   "id": "6d9601f7-d0af-45b3-bb6c-bd428141e8f4",
   "metadata": {},
   "outputs": [],
   "source": []
  },
  {
   "cell_type": "code",
   "execution_count": null,
   "id": "cd8f0af8-5116-48bd-bbf3-3419ce184c2e",
   "metadata": {},
   "outputs": [],
   "source": []
  },
  {
   "cell_type": "code",
   "execution_count": null,
   "id": "db00f26a-3962-4bd2-ab7a-3cf06b2e2ab5",
   "metadata": {},
   "outputs": [],
   "source": []
  },
  {
   "cell_type": "code",
   "execution_count": null,
   "id": "cb434bce-b061-4c18-8e00-431cad26fce3",
   "metadata": {},
   "outputs": [],
   "source": []
  },
  {
   "cell_type": "code",
   "execution_count": null,
   "id": "ea75d834-eada-4019-8087-b023aa508640",
   "metadata": {},
   "outputs": [],
   "source": []
  },
  {
   "cell_type": "code",
   "execution_count": null,
   "id": "a93b99bf-4191-44bd-b43c-d41fcd31d76c",
   "metadata": {},
   "outputs": [],
   "source": []
  },
  {
   "cell_type": "code",
   "execution_count": null,
   "id": "c5169ec7-cfd1-4f93-9a77-a2b05a566115",
   "metadata": {},
   "outputs": [],
   "source": []
  },
  {
   "cell_type": "code",
   "execution_count": null,
   "id": "3c68faad-c953-4aeb-92c4-26bab3827eaa",
   "metadata": {},
   "outputs": [],
   "source": []
  }
 ],
 "metadata": {
  "kernelspec": {
   "display_name": "Python 3 (ipykernel)",
   "language": "python",
   "name": "python3"
  },
  "language_info": {
   "codemirror_mode": {
    "name": "ipython",
    "version": 3
   },
   "file_extension": ".py",
   "mimetype": "text/x-python",
   "name": "python",
   "nbconvert_exporter": "python",
   "pygments_lexer": "ipython3",
   "version": "3.11.4"
  }
 },
 "nbformat": 4,
 "nbformat_minor": 5
}
